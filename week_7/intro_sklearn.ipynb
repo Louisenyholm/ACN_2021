{
 "cells": [
  {
   "cell_type": "code",
<<<<<<< HEAD
   "execution_count": 2,
=======
   "execution_count": 1,
>>>>>>> 62bd0076b1a7591868567d1d77de18849f743891
   "metadata": {},
   "outputs": [],
   "source": [
    "%matplotlib inline"
   ]
  },
  {
   "cell_type": "code",
<<<<<<< HEAD
   "execution_count": 1,
=======
   "execution_count": 2,
>>>>>>> 62bd0076b1a7591868567d1d77de18849f743891
   "metadata": {},
   "outputs": [],
   "source": [
    "import numpy as np\n",
    "import matplotlib.pyplot as plt"
   ]
  },
  {
   "cell_type": "code",
   "execution_count": 3,
   "metadata": {},
   "outputs": [],
   "source": [
    "#scikit-learn imports\n",
    "from sklearn.datasets import make_classification, make_regression #for generating datasets\n",
    "from sklearn.linear_model import LogisticRegression #logistic regression from their linear models\n",
    "from sklearn.model_selection import train_test_split #model selection for cross validation and train-test split\n",
    "from sklearn.metrics import roc_auc_score #metrics, here roc_auc"
   ]
  },
  {
   "cell_type": "code",
<<<<<<< HEAD
   "execution_count": 4,
=======
   "execution_count": 5,
>>>>>>> 62bd0076b1a7591868567d1d77de18849f743891
   "metadata": {},
   "outputs": [],
   "source": [
    "#Generating a dataset (X = data, y = label)\n",
    "X, y = make_classification(n_samples=400, \n",
<<<<<<< HEAD
    "                          n_features=20,\n",
    "                          n_informative=4, #so 16 features = noise\n",
    "                          random_state=319) #like set seed"
=======
    "                           n_features=20,\n",
    "                           n_informative=4,\n",
    "                           random_state=319) "
>>>>>>> 62bd0076b1a7591868567d1d77de18849f743891
   ]
  },
  {
   "cell_type": "code",
<<<<<<< HEAD
   "execution_count": 5,
=======
   "execution_count": 6,
>>>>>>> 62bd0076b1a7591868567d1d77de18849f743891
   "metadata": {},
   "outputs": [
    {
     "data": {
      "text/plain": [
       "(400,)"
      ]
     },
<<<<<<< HEAD
     "execution_count": 5,
=======
     "execution_count": 6,
>>>>>>> 62bd0076b1a7591868567d1d77de18849f743891
     "metadata": {},
     "output_type": "execute_result"
    }
   ],
   "source": [
    "y.shape"
   ]
  },
  {
   "cell_type": "code",
<<<<<<< HEAD
   "execution_count": 8,
=======
   "execution_count": 10,
>>>>>>> 62bd0076b1a7591868567d1d77de18849f743891
   "metadata": {},
   "outputs": [
    {
     "data": {
      "text/plain": [
       "(400, 20)"
      ]
     },
<<<<<<< HEAD
     "execution_count": 8,
=======
     "execution_count": 10,
>>>>>>> 62bd0076b1a7591868567d1d77de18849f743891
     "metadata": {},
     "output_type": "execute_result"
    }
   ],
   "source": [
<<<<<<< HEAD
    "#The shape of X (the feature matrix) is important - two-dimensional numpy array!\n",
=======
>>>>>>> 62bd0076b1a7591868567d1d77de18849f743891
    "X.shape"
   ]
  },
  {
   "cell_type": "code",
<<<<<<< HEAD
   "execution_count": 9,
=======
   "execution_count": 12,
>>>>>>> 62bd0076b1a7591868567d1d77de18849f743891
   "metadata": {},
   "outputs": [],
   "source": [
    "#Splitting into train and test parts. test size = 0.2 = 1/5 of the data\n",
    "#Basically all the preprocessing we do - splitting the data\n",
    "X_train, X_test, y_train, y_test = train_test_split(\n",
    "    X, y, test_size=0.2, random_state=456)"
   ]
  },
  {
   "cell_type": "markdown",
   "metadata": {},
   "source": [
<<<<<<< HEAD
    "## Fitting a model"
=======
    "# Fitting a model"
>>>>>>> 62bd0076b1a7591868567d1d77de18849f743891
   ]
  },
  {
   "cell_type": "code",
<<<<<<< HEAD
   "execution_count": 10,
=======
   "execution_count": 13,
>>>>>>> 62bd0076b1a7591868567d1d77de18849f743891
   "metadata": {},
   "outputs": [],
   "source": [
    "model = LogisticRegression()"
   ]
  },
  {
   "cell_type": "code",
<<<<<<< HEAD
   "execution_count": 11,
=======
   "execution_count": 14,
>>>>>>> 62bd0076b1a7591868567d1d77de18849f743891
   "metadata": {},
   "outputs": [
    {
     "data": {
      "text/plain": [
       "{'C': 1.0,\n",
       " 'class_weight': None,\n",
       " 'dual': False,\n",
       " 'fit_intercept': True,\n",
       " 'intercept_scaling': 1,\n",
       " 'l1_ratio': None,\n",
       " 'max_iter': 100,\n",
       " 'multi_class': 'auto',\n",
       " 'n_jobs': None,\n",
       " 'penalty': 'l2',\n",
       " 'random_state': None,\n",
       " 'solver': 'lbfgs',\n",
       " 'tol': 0.0001,\n",
       " 'verbose': 0,\n",
       " 'warm_start': False}"
      ]
     },
<<<<<<< HEAD
     "execution_count": 11,
=======
     "execution_count": 14,
>>>>>>> 62bd0076b1a7591868567d1d77de18849f743891
     "metadata": {},
     "output_type": "execute_result"
    }
   ],
   "source": [
    "model.get_params()\n",
    "# c = learning parameter, keeping at 1 is good if data is standardised\n",
    "#max_iter you sometime want to change\n",
    "#interesting is: solver and penalty\n",
    "#tol: tolerance - if number is below this, it will be counted as nothing.\n",
    "# A problem for EEG/MEG data, since the scale is negative - so the data either has to be standardised (best)\n",
    "# or the tolerance should be changed"
   ]
  },
  {
   "cell_type": "code",
<<<<<<< HEAD
   "execution_count": 12,
=======
   "execution_count": 16,
>>>>>>> 62bd0076b1a7591868567d1d77de18849f743891
   "metadata": {},
   "outputs": [
    {
     "data": {
      "text/plain": [
       "LogisticRegression()"
      ]
     },
<<<<<<< HEAD
     "execution_count": 12,
=======
     "execution_count": 16,
>>>>>>> 62bd0076b1a7591868567d1d77de18849f743891
     "metadata": {},
     "output_type": "execute_result"
    }
   ],
   "source": [
    "#fitting the model\n",
    "model.fit(X_train, y_train)"
   ]
  },
  {
   "cell_type": "code",
<<<<<<< HEAD
   "execution_count": 13,
=======
   "execution_count": 17,
>>>>>>> 62bd0076b1a7591868567d1d77de18849f743891
   "metadata": {},
   "outputs": [
    {
     "data": {
      "text/plain": [
       "array([1, 1, 1, 1, 0, 0, 0, 1, 1, 1, 1, 0, 0, 0, 1, 1, 0, 0, 1, 0, 1, 1,\n",
       "       1, 0, 0, 0, 0, 1, 0, 1, 0, 1, 1, 0, 1, 1, 1, 1, 0, 0, 1, 1, 1, 0,\n",
       "       0, 0, 1, 1, 1, 1, 1, 0, 0, 0, 0, 1, 0, 1, 1, 0, 1, 0, 1, 0, 1, 0,\n",
       "       1, 0, 1, 0, 0, 1, 0, 0, 1, 1, 1, 1, 0, 0])"
      ]
     },
<<<<<<< HEAD
     "execution_count": 13,
=======
     "execution_count": 17,
>>>>>>> 62bd0076b1a7591868567d1d77de18849f743891
     "metadata": {},
     "output_type": "execute_result"
    }
   ],
   "source": [
    "#predicting the test data (sk-learn does not take strings - but 0s and 1s)\n",
    "model.predict(X_test)"
   ]
  },
  {
   "cell_type": "code",
<<<<<<< HEAD
   "execution_count": 14,
=======
   "execution_count": 18,
>>>>>>> 62bd0076b1a7591868567d1d77de18849f743891
   "metadata": {},
   "outputs": [
    {
     "data": {
      "text/plain": [
       "array([1, 1, 0, 0, 0, 0, 0, 0, 1, 1, 1, 1, 1, 0, 1, 1, 0, 0, 1, 1, 1, 0,\n",
       "       1, 0, 0, 0, 1, 1, 0, 0, 0, 1, 1, 0, 0, 1, 1, 0, 1, 0, 1, 1, 1, 0,\n",
       "       0, 0, 1, 1, 1, 1, 0, 0, 0, 0, 0, 1, 0, 1, 1, 0, 0, 1, 1, 1, 0, 1,\n",
       "       1, 0, 0, 0, 0, 0, 0, 1, 1, 1, 1, 1, 0, 0])"
      ]
     },
<<<<<<< HEAD
     "execution_count": 14,
=======
     "execution_count": 18,
>>>>>>> 62bd0076b1a7591868567d1d77de18849f743891
     "metadata": {},
     "output_type": "execute_result"
    }
   ],
   "source": [
    "y_test"
   ]
  },
  {
   "cell_type": "code",
<<<<<<< HEAD
   "execution_count": 15,
=======
   "execution_count": 19,
>>>>>>> 62bd0076b1a7591868567d1d77de18849f743891
   "metadata": {},
   "outputs": [
    {
     "data": {
      "text/plain": [
       "0.7374999999999999"
      ]
     },
<<<<<<< HEAD
     "execution_count": 15,
=======
     "execution_count": 19,
>>>>>>> 62bd0076b1a7591868567d1d77de18849f743891
     "metadata": {},
     "output_type": "execute_result"
    }
   ],
   "source": [
    "#Roc_auc score - real values compared to predicted values\n",
    "roc_auc_score(y_test, model.predict(X_test))"
   ]
  },
  {
   "cell_type": "code",
<<<<<<< HEAD
   "execution_count": 19,
=======
   "execution_count": 20,
>>>>>>> 62bd0076b1a7591868567d1d77de18849f743891
   "metadata": {},
   "outputs": [
    {
     "data": {
      "text/plain": [
<<<<<<< HEAD
       "array([-0.2057935 ,  0.54226485, -0.03090412, -0.01577295,  0.06877635,\n",
       "        0.10191679, -0.03347374,  0.08108813,  0.02797567,  0.44881654,\n",
       "        0.13845209, -0.13675989, -0.04539756, -0.17579141,  0.30156148,\n",
       "       -0.05377287,  0.02380302, -0.17509133, -0.05606177, -0.10919213])"
      ]
     },
     "execution_count": 19,
=======
       "array([[-0.2057935 ,  0.54226485, -0.03090412, -0.01577295,  0.06877635,\n",
       "         0.10191679, -0.03347374,  0.08108813,  0.02797567,  0.44881654,\n",
       "         0.13845209, -0.13675989, -0.04539756, -0.17579141,  0.30156148,\n",
       "        -0.05377287,  0.02380302, -0.17509133, -0.05606177, -0.10919213]])"
      ]
     },
     "execution_count": 20,
>>>>>>> 62bd0076b1a7591868567d1d77de18849f743891
     "metadata": {},
     "output_type": "execute_result"
    }
   ],
   "source": [
    "#The coefficients in the model\n",
    "model.coef_\n",
    "#weights/betas (in this case: same as beta values in logistic regression - in neural networks, they would be called weights)\n",
    "#One value for each feature (20)."
   ]
  },
  {
   "cell_type": "code",
<<<<<<< HEAD
   "execution_count": 20,
=======
   "execution_count": 23,
>>>>>>> 62bd0076b1a7591868567d1d77de18849f743891
   "metadata": {},
   "outputs": [
    {
     "data": {
      "text/plain": [
       "array([[0.81400115, 1.71989777, 0.96956853, 0.98435079, 1.07119661,\n",
       "        1.10729133, 0.96708031, 1.08446646, 1.02837067, 1.56645725,\n",
       "        1.14849466, 0.87217962, 0.95561749, 0.83879293, 1.35196823,\n",
       "        0.94764732, 1.02408858, 0.83938036, 0.94548073, 0.89655815]])"
      ]
     },
<<<<<<< HEAD
     "execution_count": 20,
=======
     "execution_count": 23,
>>>>>>> 62bd0076b1a7591868567d1d77de18849f743891
     "metadata": {},
     "output_type": "execute_result"
    }
   ],
   "source": [
<<<<<<< HEAD
    "#since it is logistic regression, here we could take the exp of it to get a bit interpretation\n",
    "np.exp(model.coef_)\n",
    "#further from 0, the more it points to being one class or the other.\n",
    "#how logistic regression would usually be interpreted (but interpretability is difficult - next week's topic)"
=======
    "np.exp(model.coef_)"
>>>>>>> 62bd0076b1a7591868567d1d77de18849f743891
   ]
  },
  {
   "cell_type": "code",
<<<<<<< HEAD
   "execution_count": 17,
=======
   "execution_count": 21,
>>>>>>> 62bd0076b1a7591868567d1d77de18849f743891
   "metadata": {},
   "outputs": [
    {
     "data": {
<<<<<<< HEAD
      "image/png": "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",
=======
      "image/png": "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\n",
>>>>>>> 62bd0076b1a7591868567d1d77de18849f743891
      "text/plain": [
       "<Figure size 432x288 with 1 Axes>"
      ]
     },
     "metadata": {
      "needs_background": "light"
     },
     "output_type": "display_data"
    }
   ],
   "source": [
    "#Plotting coefficients\n",
    "plt.plot(model.coef_[0], '.');"
   ]
  },
  {
   "cell_type": "markdown",
   "metadata": {},
   "source": [
    "# Logistic regression with l1 penalty \n",
    "Hint change solver to \"saga\""
   ]
  },
  {
   "cell_type": "code",
<<<<<<< HEAD
   "execution_count": 21,
=======
   "execution_count": 24,
>>>>>>> 62bd0076b1a7591868567d1d77de18849f743891
   "metadata": {},
   "outputs": [],
   "source": [
    "#Change penalty and solver (saga is the only one that can run l1 penalty)\n",
    "model_l1 = LogisticRegression(penalty='l1', solver='saga', max_iter=1000)"
   ]
  },
  {
   "cell_type": "code",
<<<<<<< HEAD
   "execution_count": 22,
=======
   "execution_count": 25,
>>>>>>> 62bd0076b1a7591868567d1d77de18849f743891
   "metadata": {},
   "outputs": [
    {
     "data": {
      "text/plain": [
       "LogisticRegression(max_iter=1000, penalty='l1', solver='saga')"
      ]
     },
<<<<<<< HEAD
     "execution_count": 22,
=======
     "execution_count": 25,
>>>>>>> 62bd0076b1a7591868567d1d77de18849f743891
     "metadata": {},
     "output_type": "execute_result"
    }
   ],
   "source": [
    "model_l1.fit(X_train, y_train)"
   ]
  },
  {
   "cell_type": "code",
<<<<<<< HEAD
   "execution_count": 23,
=======
   "execution_count": 26,
>>>>>>> 62bd0076b1a7591868567d1d77de18849f743891
   "metadata": {},
   "outputs": [
    {
     "data": {
      "text/plain": [
       "0.775"
      ]
     },
<<<<<<< HEAD
     "execution_count": 23,
=======
     "execution_count": 26,
>>>>>>> 62bd0076b1a7591868567d1d77de18849f743891
     "metadata": {},
     "output_type": "execute_result"
    }
   ],
   "source": [
    "#roc - increased from before (now with regularisation: l1 penalty)\n",
    "roc_auc_score(y_test, model_l1.predict(X_test))"
   ]
  },
  {
   "cell_type": "code",
<<<<<<< HEAD
   "execution_count": 26,
=======
   "execution_count": 30,
>>>>>>> 62bd0076b1a7591868567d1d77de18849f743891
   "metadata": {},
   "outputs": [
    {
     "data": {
      "text/plain": [
<<<<<<< HEAD
       "<matplotlib.legend.Legend at 0x23369a6b048>"
      ]
     },
     "execution_count": 26,
=======
       "<matplotlib.legend.Legend at 0x7fc568986520>"
      ]
     },
     "execution_count": 30,
>>>>>>> 62bd0076b1a7591868567d1d77de18849f743891
     "metadata": {},
     "output_type": "execute_result"
    },
    {
     "data": {
<<<<<<< HEAD
      "image/png": "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",
=======
      "image/png": "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\n",
>>>>>>> 62bd0076b1a7591868567d1d77de18849f743891
      "text/plain": [
       "<Figure size 432x288 with 1 Axes>"
      ]
     },
     "metadata": {
      "needs_background": "light"
     },
     "output_type": "display_data"
    }
   ],
   "source": [
<<<<<<< HEAD
    "#plotting\n",
    "plt.plot(model.coef_[0], 'ob', label=\"l2\");\n",
    "plt.plot(model_l1.coef_[0], 'or', label=\"l1\");\n",
    "plt.xticks(np.arange(0, 20));\n",
    "plt.legend()\n",
    "#you can see that the l1 shrinks them towards the center (towards 0 on the y-axis)"
=======
    "plt.plot(model.coef_[0], 'ob', label='l2');\n",
    "plt.plot(model_l1.coef_[0], 'or', label='l1');\n",
    "plt.xticks(np.arange(0, 20));\n",
    "plt.legend()\n"
>>>>>>> 62bd0076b1a7591868567d1d77de18849f743891
   ]
  },
  {
   "cell_type": "markdown",
   "metadata": {},
   "source": [
    "# Create a pipeline"
   ]
  },
  {
   "cell_type": "code",
<<<<<<< HEAD
   "execution_count": 28,
=======
   "execution_count": 33,
>>>>>>> 62bd0076b1a7591868567d1d77de18849f743891
   "metadata": {},
   "outputs": [
    {
     "name": "stdout",
     "output_type": "stream",
     "text": [
      "0.04847776213790114\n",
      "1.229791536909913\n"
     ]
    }
   ],
   "source": [
<<<<<<< HEAD
    "#Mean and sd are not standardised\n",
    "print(X.mean())\n",
    "print(X.std())\n",
    "#if we standardise for logistic regression, we will get a better fit (mena = 0, sd = 1)\n",
    "#don't standardise all data - it should be part of your cross-validation scheme (doing this using pipeline below)"
=======
    "print(X.mean())\n",
    "print(X.std())"
>>>>>>> 62bd0076b1a7591868567d1d77de18849f743891
   ]
  },
  {
   "cell_type": "code",
<<<<<<< HEAD
   "execution_count": 29,
=======
   "execution_count": 35,
>>>>>>> 62bd0076b1a7591868567d1d77de18849f743891
   "metadata": {},
   "outputs": [],
   "source": [
    "#importing\n",
    "from sklearn.pipeline import make_pipeline\n",
    "from sklearn.preprocessing import StandardScaler #to z-score our data"
   ]
  },
  {
   "cell_type": "code",
<<<<<<< HEAD
   "execution_count": 30,
=======
   "execution_count": 36,
>>>>>>> 62bd0076b1a7591868567d1d77de18849f743891
   "metadata": {},
   "outputs": [],
   "source": [
    "#creating pipeline first standardising, then creating linear regression\n",
    "pipeline = make_pipeline(StandardScaler(), LogisticRegression())"
   ]
  },
  {
   "cell_type": "code",
<<<<<<< HEAD
   "execution_count": 31,
=======
   "execution_count": 37,
>>>>>>> 62bd0076b1a7591868567d1d77de18849f743891
   "metadata": {},
   "outputs": [
    {
     "data": {
      "text/plain": [
       "Pipeline(steps=[('standardscaler', StandardScaler()),\n",
       "                ('logisticregression', LogisticRegression())])"
      ]
     },
<<<<<<< HEAD
     "execution_count": 31,
=======
     "execution_count": 37,
>>>>>>> 62bd0076b1a7591868567d1d77de18849f743891
     "metadata": {},
     "output_type": "execute_result"
    }
   ],
   "source": [
    "pipeline\n",
    "#if needing to \"grab\" it later, use the string version below"
   ]
  },
  {
   "cell_type": "code",
<<<<<<< HEAD
   "execution_count": 32,
=======
   "execution_count": 38,
>>>>>>> 62bd0076b1a7591868567d1d77de18849f743891
   "metadata": {},
   "outputs": [
    {
     "data": {
      "text/plain": [
       "Pipeline(steps=[('standardscaler', StandardScaler()),\n",
       "                ('logisticregression', LogisticRegression())])"
      ]
     },
<<<<<<< HEAD
     "execution_count": 32,
=======
     "execution_count": 38,
>>>>>>> 62bd0076b1a7591868567d1d77de18849f743891
     "metadata": {},
     "output_type": "execute_result"
    }
   ],
   "source": [
    "#fitting as above\n",
    "pipeline.fit(X_train, y_train)"
   ]
  },
  {
   "cell_type": "code",
<<<<<<< HEAD
   "execution_count": 33,
   "metadata": {},
   "outputs": [
    {
     "data": {
      "text/plain": [
       "0.7374999999999999"
      ]
     },
     "execution_count": 33,
     "metadata": {},
     "output_type": "execute_result"
    }
   ],
   "source": [
    "#roc score as above\n",
    "roc_auc_score(y_test, pipeline.predict(X_test))\n",
    "#Here we do not actually get a better fit by standardising, but most of the times you would."
   ]
  },
  {
   "cell_type": "markdown",
   "metadata": {},
=======
   "execution_count": 39,
   "metadata": {},
   "outputs": [
    {
     "data": {
      "text/plain": [
       "0.7374999999999999"
      ]
     },
     "execution_count": 39,
     "metadata": {},
     "output_type": "execute_result"
    }
   ],
>>>>>>> 62bd0076b1a7591868567d1d77de18849f743891
   "source": [
    "## Cross-validation"
   ]
  },
  {
   "cell_type": "markdown",
   "metadata": {},
   "source": [
    "# Cross-validation "
   ]
  },
  {
   "cell_type": "code",
<<<<<<< HEAD
   "execution_count": 34,
=======
   "execution_count": 40,
>>>>>>> 62bd0076b1a7591868567d1d77de18849f743891
   "metadata": {},
   "outputs": [],
   "source": [
    "#importing\n",
    "from sklearn.model_selection import (StratifiedShuffleSplit,\n",
    "                                     cross_val_score) #runs the pipeline overall the cross-validation (does the hard work)\n",
    "##stratified: if unbalanced data, the ratio will be kept the same in every fold - to reduce bias.\n",
    "# Does not affect anything for a perfectly balanced dataset.\n",
    "# There are many different ways of doing cross-validation in scikit-learn - so keep in mind tha tyou keep the right one for what you want"
   ]
  },
  {
   "cell_type": "code",
<<<<<<< HEAD
   "execution_count": 35,
=======
   "execution_count": 41,
>>>>>>> 62bd0076b1a7591868567d1d77de18849f743891
   "metadata": {},
   "outputs": [],
   "source": [
    "#making cross-validation object\n",
    "cv = StratifiedShuffleSplit(n_splits=5, test_size=0.2, \n",
    "                            random_state=234326)"
   ]
  },
  {
   "cell_type": "code",
<<<<<<< HEAD
   "execution_count": 36,
=======
   "execution_count": 42,
>>>>>>> 62bd0076b1a7591868567d1d77de18849f743891
   "metadata": {},
   "outputs": [
    {
     "data": {
      "text/plain": [
<<<<<<< HEAD
       "<generator object BaseShuffleSplit.split at 0x0000023369AAADB0>"
      ]
     },
     "execution_count": 36,
=======
       "<generator object BaseShuffleSplit.split at 0x7fc59848ae40>"
      ]
     },
     "execution_count": 42,
>>>>>>> 62bd0076b1a7591868567d1d77de18849f743891
     "metadata": {},
     "output_type": "execute_result"
    }
   ],
   "source": [
    "cv.split(X, y)"
   ]
  },
  {
   "cell_type": "code",
<<<<<<< HEAD
   "execution_count": 37,
=======
   "execution_count": 43,
>>>>>>> 62bd0076b1a7591868567d1d77de18849f743891
   "metadata": {},
   "outputs": [
    {
     "name": "stdout",
     "output_type": "stream",
     "text": [
      "[159 180 349 207  78 255 360 185  68  99 376 276 383  14 377 247 186 176\n",
      " 302 143 326 111 273 244 187 217 223 157 220  36 112 337 292 115  44   9\n",
      " 395 142  46 336  62 355 338  86 163  21 234 329  27 301  79 121 316 354\n",
      " 118 215 282  56  65  87 260 264 259 193 284 167  45 178 339 235  32  75\n",
      " 184 278 241 219  66 212 173  88]\n",
      "[ 66 273  67 120  65 171 364 173 136 180  17 329 109 325 378 215 277   4\n",
      " 387  53 107 235  70  98 342 244 124 212  88 279 176  31 149 175 161 200\n",
      " 311 145  40 344 326 355  59 207 111  58 233 178  42 147 257 196 294 123\n",
      "  92 174 143 126  76 236  90 157 260 289 208  75 163 160 339 332 221 177\n",
      " 276 117  26  27 142 104 259  29]\n",
      "[321  35 182  46  66 216 142 193 112 102  57 302  83 253 174  29 143 275\n",
      " 329  72 206 368 158 130 243 291 255  26 233  96 355 177 160 176  91  20\n",
      " 384 148  79  47 196 373  16  58 332  98  92 240  54 188 167 388  73 294\n",
      "  90 292  87  94 280 378 159 385 203 277 330 251 310 351 139 226 145  89\n",
      " 126 320 265 210 390 323  97  84]\n",
      "[ 61 155 398 270 135  94  54   6  87 219 266  67  45 366 149  86  20 391\n",
      "  18 158  44   1 212 394 180 137 157 214  76 306  90 200 277 118  22  92\n",
      " 323 159  98 264 188 220 377  16 395   7 248 146 222 141 397   0 365 143\n",
      " 150 144  37 103  75 196 246 346  56 339 225 174 133 283 317 341 168 330\n",
      "  33 340 352  80 202 107 376 134]\n",
      "[ 48  18 250   0  58 266 351 363 220 207 247 325 356  57 334 160  21 211\n",
      "  26 317  66 162  41 179 141 195 111 225 205   9 330  63 122 335  81 367\n",
      " 342   6 251 103  22 292 275  89 227 196 350 320  73 201 183 143  84 238\n",
      " 209 224 136 328 277 318 206 182 127 123  53 124 174 142 187 213  90 319\n",
      " 263 369  62 121 278 358 368 119]\n"
     ]
    }
   ],
   "source": [
    "#printing all the test split in folds by lists\n",
    "for train_idx, test_idx in cv.split(X, y):\n",
    "    print(test_idx)"
   ]
  },
  {
   "cell_type": "code",
<<<<<<< HEAD
   "execution_count": 38,
=======
   "execution_count": 44,
>>>>>>> 62bd0076b1a7591868567d1d77de18849f743891
   "metadata": {},
   "outputs": [],
   "source": [
    "# An entire cross-validation in a single line\n",
    "scores = cross_val_score(pipeline, X, y, cv=cv, scoring=\"roc_auc\")\n",
    "#We are giving it the full matrix (X) and y. cv = 5-fold default. And scoring is how we are scoring it.\n",
    "# all it takes to do a full cross-validated score"
   ]
  },
  {
   "cell_type": "code",
<<<<<<< HEAD
   "execution_count": 39,
=======
   "execution_count": 45,
>>>>>>> 62bd0076b1a7591868567d1d77de18849f743891
   "metadata": {},
   "outputs": [
    {
     "data": {
      "text/plain": [
       "array([0.801875, 0.754375, 0.698125, 0.7925  , 0.74875 ])"
      ]
     },
<<<<<<< HEAD
     "execution_count": 39,
=======
     "execution_count": 45,
>>>>>>> 62bd0076b1a7591868567d1d77de18849f743891
     "metadata": {},
     "output_type": "execute_result"
    }
   ],
   "source": [
    "#five-fold score\n",
    "scores"
   ]
  },
  {
   "cell_type": "code",
<<<<<<< HEAD
   "execution_count": 40,
=======
   "execution_count": 46,
>>>>>>> 62bd0076b1a7591868567d1d77de18849f743891
   "metadata": {},
   "outputs": [
    {
     "data": {
      "text/plain": [
       "0.7591249999999999"
      ]
     },
<<<<<<< HEAD
     "execution_count": 40,
=======
     "execution_count": 46,
>>>>>>> 62bd0076b1a7591868567d1d77de18849f743891
     "metadata": {},
     "output_type": "execute_result"
    }
   ],
   "source": [
    "#what we actually want from the folds (mean + sd)\n",
    "scores.mean()"
   ]
  },
  {
   "cell_type": "code",
<<<<<<< HEAD
   "execution_count": 41,
=======
   "execution_count": 47,
>>>>>>> 62bd0076b1a7591868567d1d77de18849f743891
   "metadata": {},
   "outputs": [
    {
     "data": {
      "text/plain": [
       "0.03685825891167406"
      ]
     },
<<<<<<< HEAD
     "execution_count": 41,
=======
     "execution_count": 47,
>>>>>>> 62bd0076b1a7591868567d1d77de18849f743891
     "metadata": {},
     "output_type": "execute_result"
    }
   ],
   "source": [
    "#what we actually want from the folds (mean + sd\n",
    "scores.std()"
   ]
  },
  {
   "cell_type": "markdown",
   "metadata": {},
   "source": [
    "Showing how the standardscaler works"
   ]
  },
  {
   "cell_type": "code",
<<<<<<< HEAD
   "execution_count": 42,
=======
   "execution_count": 48,
>>>>>>> 62bd0076b1a7591868567d1d77de18849f743891
   "metadata": {},
   "outputs": [],
   "source": [
    "stdscl = StandardScaler()"
   ]
  },
  {
   "cell_type": "code",
<<<<<<< HEAD
   "execution_count": 43,
=======
   "execution_count": 49,
>>>>>>> 62bd0076b1a7591868567d1d77de18849f743891
   "metadata": {},
   "outputs": [
    {
     "data": {
      "text/plain": [
       "StandardScaler()"
      ]
     },
<<<<<<< HEAD
     "execution_count": 43,
=======
     "execution_count": 49,
>>>>>>> 62bd0076b1a7591868567d1d77de18849f743891
     "metadata": {},
     "output_type": "execute_result"
    }
   ],
   "source": [
    "stdscl.fit(X)"
   ]
  },
  {
   "cell_type": "code",
<<<<<<< HEAD
   "execution_count": 44,
=======
   "execution_count": 50,
>>>>>>> 62bd0076b1a7591868567d1d77de18849f743891
   "metadata": {},
   "outputs": [
    {
     "data": {
      "text/plain": [
       "array([1.69331248, 1.48752599, 0.95044558, 0.93687538, 0.96746324,\n",
       "       0.99522461, 0.97867092, 0.97119308, 0.9031551 , 1.60275499,\n",
       "       1.03067526, 0.98991225, 0.91576177, 1.00574026, 1.548512  ,\n",
       "       1.88469943, 1.05514967, 0.96435324, 1.00411708, 1.28750254])"
      ]
     },
<<<<<<< HEAD
     "execution_count": 44,
=======
     "execution_count": 50,
>>>>>>> 62bd0076b1a7591868567d1d77de18849f743891
     "metadata": {},
     "output_type": "execute_result"
    }
   ],
   "source": [
    "stdscl.scale_\n",
    "#_ is things that have been estimated after fitting the model - before fitting, these params do not exist"
   ]
  },
  {
   "cell_type": "code",
<<<<<<< HEAD
   "execution_count": 49,
=======
   "execution_count": 51,
>>>>>>> 62bd0076b1a7591868567d1d77de18849f743891
   "metadata": {},
   "outputs": [
    {
     "data": {
      "text/plain": [
       "array([-0.04529135, -0.54250006,  0.04172557, -0.0475451 , -0.10604623,\n",
       "        0.04313583,  0.06551255, -0.03673796, -0.02657711,  0.54552966,\n",
       "        0.02521984,  0.04041969,  0.04325657, -0.02899043,  0.10541518,\n",
       "        0.99634323, -0.03549314,  0.02731322,  0.08906314, -0.18419789])"
      ]
     },
     "execution_count": 51,
     "metadata": {},
     "output_type": "execute_result"
    }
   ],
   "source": [
    "#dir(model)\n",
    "#_ are things that have been estimated after fitting the model - before fitting, these params do not exist"
   ]
  },
  {
   "cell_type": "code",
   "execution_count": 46,
   "metadata": {},
   "outputs": [
    {
     "data": {
      "text/plain": [
       "array([-0.04529135, -0.54250006,  0.04172557, -0.0475451 , -0.10604623,\n",
       "        0.04313583,  0.06551255, -0.03673796, -0.02657711,  0.54552966,\n",
       "        0.02521984,  0.04041969,  0.04325657, -0.02899043,  0.10541518,\n",
       "        0.99634323, -0.03549314,  0.02731322,  0.08906314, -0.18419789])"
      ]
     },
     "execution_count": 46,
     "metadata": {},
     "output_type": "execute_result"
    }
   ],
   "source": [
    "stdscl.mean_"
   ]
  },
  {
   "cell_type": "code",
<<<<<<< HEAD
   "execution_count": 47,
=======
   "execution_count": 57,
>>>>>>> 62bd0076b1a7591868567d1d77de18849f743891
   "metadata": {
    "jupyter": {
     "outputs_hidden": false
    },
    "pycharm": {
     "name": "#%%\n"
    }
   },
   "outputs": [
    {
     "data": {
      "text/plain": [
       "array([[0.44520386, 0.55479614],\n",
       "       [0.33062123, 0.66937877],\n",
       "       [0.44761688, 0.55238312],\n",
       "       [0.33460162, 0.66539838],\n",
       "       [0.55616509, 0.44383491],\n",
       "       [0.68384969, 0.31615031],\n",
       "       [0.62594683, 0.37405317],\n",
       "       [0.35375108, 0.64624892],\n",
       "       [0.23859072, 0.76140928],\n",
       "       [0.12613637, 0.87386363]])"
      ]
     },
<<<<<<< HEAD
     "execution_count": 47,
=======
     "execution_count": 57,
>>>>>>> 62bd0076b1a7591868567d1d77de18849f743891
     "metadata": {},
     "output_type": "execute_result"
    }
   ],
   "source": [
<<<<<<< HEAD
    "#probability of belonging to each class for the first ten - tells how certain your classifier is in it's classifications\n",
=======
>>>>>>> 62bd0076b1a7591868567d1d77de18849f743891
    "pipeline.predict_proba(X_test[:10])"
   ]
  },
  {
   "cell_type": "markdown",
   "metadata": {},
   "source": [
<<<<<<< HEAD
    "## Plot a roc curve\n",
    "= our task"
=======
    "# Plot a roc curve?"
>>>>>>> 62bd0076b1a7591868567d1d77de18849f743891
   ]
  },
  {
   "cell_type": "code",
<<<<<<< HEAD
   "execution_count": 54,
=======
   "execution_count": 65,
   "metadata": {},
   "outputs": [],
   "source": [
    "from sklearn.metrics import plot_roc_curve, plot_precision_recall_curve, plot_confusion_matrix, confusion_matrix"
   ]
  },
  {
   "cell_type": "code",
   "execution_count": 60,
   "metadata": {},
   "outputs": [
    {
     "data": {
      "text/plain": [
       "<sklearn.metrics._plot.roc_curve.RocCurveDisplay at 0x7fc5aa74bee0>"
      ]
     },
     "execution_count": 60,
     "metadata": {},
     "output_type": "execute_result"
    },
    {
     "data": {
      "image/png": "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\n",
      "text/plain": [
       "<Figure size 432x288 with 1 Axes>"
      ]
     },
     "metadata": {
      "needs_background": "light"
     },
     "output_type": "display_data"
    }
   ],
   "source": [
    "plot_roc_curve(pipeline, X, y)"
   ]
  },
  {
   "cell_type": "code",
   "execution_count": 61,
   "metadata": {},
   "outputs": [
    {
     "data": {
      "text/plain": [
       "<sklearn.metrics._plot.precision_recall_curve.PrecisionRecallDisplay at 0x7fc59844cd90>"
      ]
     },
     "execution_count": 61,
     "metadata": {},
     "output_type": "execute_result"
    },
    {
     "data": {
      "image/png": "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\n",
      "text/plain": [
       "<Figure size 432x288 with 1 Axes>"
      ]
     },
     "metadata": {
      "needs_background": "light"
     },
     "output_type": "display_data"
    }
   ],
   "source": [
    "plot_precision_recall_curve(pipeline, X, y)"
   ]
  },
  {
   "cell_type": "code",
   "execution_count": 64,
   "metadata": {},
   "outputs": [
    {
     "data": {
      "text/plain": [
       "<sklearn.metrics._plot.confusion_matrix.ConfusionMatrixDisplay at 0x7fc5aa930b20>"
      ]
     },
     "execution_count": 64,
     "metadata": {},
     "output_type": "execute_result"
    },
    {
     "data": {
      "image/png": "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\n",
      "text/plain": [
       "<Figure size 432x288 with 2 Axes>"
      ]
     },
     "metadata": {
      "needs_background": "light"
     },
     "output_type": "display_data"
    }
   ],
   "source": [
    "plot_confusion_matrix(pipeline, X, y, cmap='binary')"
   ]
  },
  {
   "cell_type": "code",
   "execution_count": 67,
   "metadata": {},
   "outputs": [
    {
     "data": {
      "text/plain": [
       "array([[28, 12],\n",
       "       [ 9, 31]])"
      ]
     },
     "execution_count": 67,
     "metadata": {},
     "output_type": "execute_result"
    }
   ],
   "source": [
    "confusion_matrix(y_test, pipeline.predict(X_test))"
   ]
  },
  {
   "cell_type": "code",
   "execution_count": null,
   "metadata": {},
   "outputs": [],
   "source": []
  },
  {
   "cell_type": "code",
   "execution_count": null,
>>>>>>> 62bd0076b1a7591868567d1d77de18849f743891
   "metadata": {},
   "outputs": [],
   "source": [
    "#importing\n",
    "from sklearn.metrics import plot_roc_curve, plot_precision_recall_curve, plot_confusion_matrix, confusion_matrix"
   ]
  },
  {
   "cell_type": "code",
   "execution_count": 53,
   "metadata": {},
   "outputs": [
    {
     "data": {
      "text/plain": [
       "<sklearn.metrics._plot.roc_curve.RocCurveDisplay at 0x23369abb4e0>"
      ]
     },
     "execution_count": 53,
     "metadata": {},
     "output_type": "execute_result"
    },
    {
     "data": {
      "image/png": "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",
      "text/plain": [
       "<Figure size 432x288 with 1 Axes>"
      ]
     },
     "metadata": {
      "needs_background": "light"
     },
     "output_type": "display_data"
    }
   ],
   "source": [
    "#sklearn.metrics.plot_roc_curve(estimator, X, y, *, sample_weight=None, drop_intermediate=True, response_method='auto', name=None, ax=None, pos_label=None, **kwargs)\n",
    "\n",
    "#plot_roc_curve(pipeline, X, y, sample_weight=None, drop_intermediate=True, response_method='auto', name=None, ax=None, pos_label=None)\n",
    "plot_roc_curve(pipeline, X, y)\n",
    "#using the full data (pipeline). If to be recorded for a paper, you use the test data.\n",
    "#roc = relation between false positive and true positive rate. (the closer to top left corner, the better)"
   ]
  },
  {
   "cell_type": "code",
   "execution_count": 55,
   "metadata": {},
   "outputs": [
    {
     "data": {
      "text/plain": [
       "<sklearn.metrics._plot.precision_recall_curve.PrecisionRecallDisplay at 0x23368286d68>"
      ]
     },
     "execution_count": 55,
     "metadata": {},
     "output_type": "execute_result"
    },
    {
     "data": {
      "image/png": "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",
      "text/plain": [
       "<Figure size 432x288 with 1 Axes>"
      ]
     },
     "metadata": {
      "needs_background": "light"
     },
     "output_type": "display_data"
    }
   ],
   "source": [
    "#Precision-recall curve\n",
    "plot_precision_recall_curve(pipeline, X, y)"
   ]
  },
  {
   "cell_type": "code",
   "execution_count": null,
   "metadata": {},
   "outputs": [],
   "source": [
    "# Confusion matrix\n",
    "#plot_confusion_matrix()"
   ]
  },
  {
   "cell_type": "markdown",
   "metadata": {},
   "source": [
    "# Ridge and Lasso\n",
    "\n",
    "Repeat the pipeline from above using a Ridge regression on data generated below. \n",
    "\n",
    "QUESTION: What is difference between Ridge and RidgeCV?"
   ]
  },
  {
   "cell_type": "code",
<<<<<<< HEAD
   "execution_count": 68,
=======
   "execution_count": 104,
>>>>>>> 62bd0076b1a7591868567d1d77de18849f743891
   "metadata": {},
   "outputs": [],
   "source": [
    "from sklearn.linear_model import Ridge, RidgeCV\n",
    "from sklearn.metrics import mean_squared_error"
   ]
  },
  {
   "cell_type": "code",
   "execution_count": 69,
   "metadata": {},
   "outputs": [],
   "source": [
    "X, y, w = make_regression( #a regression problem now - NOT classification\n",
    "    n_samples=200, n_features=10, coef=True, random_state=5255, bias=3.5\n",
    ")\n",
    "\n",
    "# w is the weight that the data generating model is build on, i.e. the ground truth"
   ]
  },
  {
   "cell_type": "code",
   "execution_count": 142,
   "metadata": {},
   "outputs": [
    {
     "data": {
      "text/plain": [
       "array([  76.94315458, -143.95740236,   14.55656083, -307.50610571,\n",
       "        -17.26617117, -136.94083572,  -94.73384708,   90.83928015,\n",
       "        111.36963035, -191.95084939,   76.71406338,  172.49444817,\n",
       "        152.97888735,  107.20148079, -206.80081831,  244.10433028,\n",
       "        114.03040016,  -21.28139631,  443.40667329,  105.40134443,\n",
       "        -47.33682052,    9.69022621,  -50.95590968,   61.1504773 ,\n",
       "        119.91582178,  112.7193944 ,  -66.84448955,    3.9175474 ,\n",
       "       -109.46604633,   41.55437755,  -89.27626047, -275.21736493,\n",
       "         14.83085896, -182.48126095,  137.29331797,   -2.29178376,\n",
       "        113.78640088,   79.79796019,  101.92980046,  439.33406119,\n",
       "        146.21848579, -280.41372902,  -15.42208979,  193.47663951,\n",
       "         24.9699717 , -189.03310065,   71.34279561,  -48.32632975,\n",
       "        116.41261537, -284.69570616, -225.27586074,  126.75753864,\n",
       "        171.93351971,  370.59341192, -182.28851055,  573.35137104,\n",
       "         -2.52017853,  371.79806413, -316.39084418,  -46.99459839,\n",
       "        623.31011148,  163.09588252, -259.28788317,  105.51068257,\n",
       "        -28.85156954,   86.87186148,  380.22516673,  122.89759443,\n",
       "         30.29509894, -499.81891752,  132.48720156,   38.83158146,\n",
       "         89.78661023, -336.15060145,   98.5163676 ,  186.92757962,\n",
       "          3.33581217,  -31.24089459,  123.41699187,   58.05768261,\n",
       "        130.44463344,  -89.28910583,  100.37938534,  206.93419432,\n",
       "         85.59301473,   10.29816129,  -95.51294738,  -51.40679308,\n",
       "       -289.60137314,  -79.8077517 , -493.76097076, -464.5508379 ,\n",
       "       -463.41530668,  235.70201536,  126.86782698, -117.74449273,\n",
       "       -307.36362287,   88.33500246,  117.90808226,  294.24769725,\n",
       "         56.22337997,  315.48126562,  294.92022819,  -25.38625396,\n",
       "         10.63147091,  139.80864435,   96.79312782, -289.443608  ,\n",
       "        131.9511944 ,  150.17348276, -133.51138489, -148.74679298,\n",
       "        -40.7247723 ,  -35.19725462,   75.48433348,  -67.00554298,\n",
       "        143.21387776,  -80.43366271, -253.26582815,  120.06545868,\n",
       "       -249.88954339,  197.20711232, -101.95365585, -159.83837327,\n",
       "       -238.45690634,  297.30981029,  100.11457291,  159.79930703,\n",
       "         22.14118185, -470.81159511, -320.66506072,  410.97550641,\n",
       "        -43.11163797,  493.64055827, -307.48707813,  115.56991581,\n",
       "        -13.91274996,  -71.04483747,  118.59760362, -129.94085841,\n",
       "        -85.39627422,  -82.44534998,  122.1517396 ,  109.46822956,\n",
       "       -165.0021174 , -341.25975572,  134.87536814, -163.44676902,\n",
       "        295.33163787, -345.59492261, -169.23318962,  382.78450426,\n",
       "       -111.25082036,   30.68181586,  -31.75717964,   77.38862248,\n",
       "        707.89859413,  304.33117327, -110.431031  , -108.40453548,\n",
       "         66.22729701,  -23.24602161,  -76.98860229,   20.75643645,\n",
       "        155.08150862,  108.12628886,   85.16511224,   18.27913677,\n",
       "          3.24815743,  524.18420026, -124.95852879,  137.87227656,\n",
       "        -43.52368875, -459.42643484,  -96.49158664,  367.90576479,\n",
       "       -238.93285339, -188.19742799,  182.48573944,  274.12786186,\n",
       "        -14.65037793, -205.0453868 ,  -98.59449137,  188.8875463 ,\n",
       "        149.42431494, -188.65422362,   36.32550866,  -17.62510629,\n",
       "        211.09175881,  237.01505163,  188.51687196,  -93.29016649,\n",
       "       -179.02575089, -119.0741013 ,   31.40616268,   32.82626858,\n",
       "       -139.95065314,   65.88298389,  244.27185761, -329.83502082])"
      ]
     },
     "execution_count": 142,
     "metadata": {},
     "output_type": "execute_result"
    }
   ],
   "source": [
    "y"
   ]
  },
  {
   "cell_type": "code",
   "execution_count": 114,
   "metadata": {},
   "outputs": [],
   "source": [
    "from sklearn.linear_model import Ridge, RidgeCV, LinearRegression\n",
    "from sklearn.metrics import mean_squared_error"
   ]
  },
  {
   "cell_type": "code",
   "execution_count": 132,
   "metadata": {},
   "outputs": [],
   "source": [
    "ridge_pipeline = make_pipeline(StandardScaler(), Ridge())"
   ]
  },
  {
   "cell_type": "code",
   "execution_count": 133,
   "metadata": {},
   "outputs": [],
   "source": [
    "X_train, X_test, y_train, y_test = train_test_split(\n",
    "    X, y, test_size=0.2, random_state=456)"
   ]
  },
  {
   "cell_type": "code",
   "execution_count": 134,
   "metadata": {},
   "outputs": [
    {
     "data": {
      "text/plain": [
       "Pipeline(steps=[('standardscaler', StandardScaler()), ('ridge', Ridge())])"
      ]
     },
     "execution_count": 134,
     "metadata": {},
     "output_type": "execute_result"
    }
   ],
   "source": [
    "ridge_pipeline.fit(X_train, y_train)"
   ]
  },
  {
   "cell_type": "code",
   "execution_count": 147,
   "metadata": {},
   "outputs": [
    {
     "data": {
      "text/plain": [
       "array([100.94543718,  49.66410964,  64.76144617,  69.85043691,\n",
       "        24.74008178,  27.49938382,  23.88906916,  64.85750593,\n",
       "       101.61477608,  85.82346506])"
      ]
     },
     "execution_count": 147,
     "metadata": {},
     "output_type": "execute_result"
    }
   ],
   "source": [
    "ridge_pipeline.named_steps['ridge'].coef_"
   ]
  },
  {
   "cell_type": "code",
   "execution_count": 136,
   "metadata": {},
   "outputs": [
    {
     "data": {
      "text/plain": [
       "array([98.8291441 , 46.4276265 , 68.19611763, 68.15165026, 26.85804853,\n",
       "       28.31476062, 24.32733533, 64.33254665, 99.28400279, 93.54902659])"
      ]
     },
     "execution_count": 136,
     "metadata": {},
     "output_type": "execute_result"
    }
   ],
   "source": [
    "w"
   ]
  },
  {
   "cell_type": "code",
   "execution_count": 148,
   "metadata": {},
   "outputs": [],
   "source": [
    "mse = mean_squared_error(y_test, ridge_pipeline.predict(X_test))"
   ]
  },
  {
   "cell_type": "code",
   "execution_count": 149,
   "metadata": {},
   "outputs": [
    {
     "data": {
      "text/plain": [
       "2.5172471856643432"
      ]
     },
     "execution_count": 149,
     "metadata": {},
     "output_type": "execute_result"
    }
   ],
   "source": [
    "mse"
   ]
  },
  {
   "cell_type": "code",
   "execution_count": 145,
   "metadata": {},
   "outputs": [
    {
     "data": {
      "text/plain": [
       "15.391032946647318"
      ]
     },
     "execution_count": 145,
     "metadata": {},
     "output_type": "execute_result"
    }
   ],
   "source": [
    "y_test.mean()"
   ]
  },
  {
   "cell_type": "code",
   "execution_count": 141,
   "metadata": {},
   "outputs": [
    {
     "data": {
      "text/plain": [
       "<matplotlib.legend.Legend at 0x7fc56a32a3d0>"
      ]
     },
     "execution_count": 141,
     "metadata": {},
     "output_type": "execute_result"
    },
    {
     "data": {
      "image/png": "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\n",
      "text/plain": [
       "<Figure size 432x288 with 1 Axes>"
      ]
     },
     "metadata": {
      "needs_background": "light"
     },
     "output_type": "display_data"
    }
   ],
   "source": [
    "plt.plot(y[:20], 'bo', label='y')\n",
    "plt.plot(ridge_model.predict(X_test[:20]), 'ro', label='predicted')\n",
    "plt.legend()"
   ]
  },
  {
   "cell_type": "code",
   "execution_count": null,
   "metadata": {},
   "outputs": [],
   "source": []
  },
  {
   "cell_type": "code",
   "execution_count": null,
   "metadata": {},
   "outputs": [],
   "source": []
  },
  {
   "cell_type": "code",
   "execution_count": 63,
   "metadata": {},
   "outputs": [],
   "source": [
    "#creating pipeline first standardising, then creating linear regression\n",
    "pipeline_Ridge = make_pipeline(StandardScaler(), Ridge())"
   ]
  },
  {
   "cell_type": "code",
   "execution_count": 70,
   "metadata": {},
   "outputs": [],
   "source": [
    "#Splitting into train and test parts. test size = 0.2 = 1/5 of the data\n",
    "X_train, X_test, y_train, y_test = train_test_split(\n",
    "    X, y, test_size=0.2, random_state=456)"
   ]
  },
  {
   "cell_type": "code",
   "execution_count": 71,
   "metadata": {},
   "outputs": [
    {
     "data": {
      "text/plain": [
       "Pipeline(steps=[('standardscaler', StandardScaler()), ('ridge', Ridge())])"
      ]
     },
     "execution_count": 71,
     "metadata": {},
     "output_type": "execute_result"
    }
   ],
   "source": [
    "#fitting\n",
    "pipeline_Ridge.fit(X_train, y_train)"
   ]
  },
  {
   "cell_type": "code",
   "execution_count": 77,
   "metadata": {},
   "outputs": [
    {
     "data": {
      "text/plain": [
       "array([100.94543718,  49.66410964,  64.76144617,  69.85043691,\n",
       "        24.74008178,  27.49938382,  23.88906916,  64.85750593,\n",
       "       101.61477608,  85.82346506])"
      ]
     },
     "execution_count": 77,
     "metadata": {},
     "output_type": "execute_result"
    }
   ],
   "source": [
    "#coefficients\n",
    "pipeline_Ridge.named_steps[\"ridge\"].coef_"
   ]
  },
  {
   "cell_type": "code",
   "execution_count": 73,
   "metadata": {},
   "outputs": [
    {
     "data": {
      "text/plain": [
       "array([98.8291441 , 46.4276265 , 68.19611763, 68.15165026, 26.85804853,\n",
       "       28.31476062, 24.32733533, 64.33254665, 99.28400279, 93.54902659])"
      ]
     },
     "execution_count": 73,
     "metadata": {},
     "output_type": "execute_result"
    }
   ],
   "source": [
    "w"
   ]
  },
  {
   "cell_type": "code",
   "execution_count": 78,
   "metadata": {},
   "outputs": [
    {
     "ename": "ValueError",
     "evalue": "Found input variables with inconsistent numbers of samples: [10, 40]",
     "output_type": "error",
     "traceback": [
      "\u001b[1;31m---------------------------------------------------------------------------\u001b[0m",
      "\u001b[1;31mValueError\u001b[0m                                Traceback (most recent call last)",
      "\u001b[1;32m<ipython-input-78-dc1ec5dedec4>\u001b[0m in \u001b[0;36m<module>\u001b[1;34m\u001b[0m\n\u001b[0;32m      1\u001b[0m \u001b[1;31m#diff between the weights and the coefficients\u001b[0m\u001b[1;33m\u001b[0m\u001b[1;33m\u001b[0m\u001b[0m\n\u001b[1;32m----> 2\u001b[1;33m \u001b[0mmse\u001b[0m \u001b[1;33m=\u001b[0m \u001b[0mmean_squared_error\u001b[0m\u001b[1;33m(\u001b[0m\u001b[0mw\u001b[0m\u001b[1;33m,\u001b[0m \u001b[0mpipeline_Ridge\u001b[0m\u001b[1;33m.\u001b[0m\u001b[0mpredict\u001b[0m\u001b[1;33m(\u001b[0m\u001b[0mX_test\u001b[0m\u001b[1;33m)\u001b[0m\u001b[1;33m)\u001b[0m\u001b[1;33m\u001b[0m\u001b[0m\n\u001b[0m",
      "\u001b[1;32mc:\\Users\\louis\\OneDrive - Aarhus universitet\\Masters\\1. Semester\\Advanced Cognitive Neuroscience\\Practical Exercises\\week2\\lib\\site-packages\\sklearn\\utils\\validation.py\u001b[0m in \u001b[0;36minner_f\u001b[1;34m(*args, **kwargs)\u001b[0m\n\u001b[0;32m     61\u001b[0m             \u001b[0mextra_args\u001b[0m \u001b[1;33m=\u001b[0m \u001b[0mlen\u001b[0m\u001b[1;33m(\u001b[0m\u001b[0margs\u001b[0m\u001b[1;33m)\u001b[0m \u001b[1;33m-\u001b[0m \u001b[0mlen\u001b[0m\u001b[1;33m(\u001b[0m\u001b[0mall_args\u001b[0m\u001b[1;33m)\u001b[0m\u001b[1;33m\u001b[0m\u001b[0m\n\u001b[0;32m     62\u001b[0m             \u001b[1;32mif\u001b[0m \u001b[0mextra_args\u001b[0m \u001b[1;33m<=\u001b[0m \u001b[1;36m0\u001b[0m\u001b[1;33m:\u001b[0m\u001b[1;33m\u001b[0m\u001b[0m\n\u001b[1;32m---> 63\u001b[1;33m                 \u001b[1;32mreturn\u001b[0m \u001b[0mf\u001b[0m\u001b[1;33m(\u001b[0m\u001b[1;33m*\u001b[0m\u001b[0margs\u001b[0m\u001b[1;33m,\u001b[0m \u001b[1;33m**\u001b[0m\u001b[0mkwargs\u001b[0m\u001b[1;33m)\u001b[0m\u001b[1;33m\u001b[0m\u001b[0m\n\u001b[0m\u001b[0;32m     64\u001b[0m \u001b[1;33m\u001b[0m\u001b[0m\n\u001b[0;32m     65\u001b[0m             \u001b[1;31m# extra_args > 0\u001b[0m\u001b[1;33m\u001b[0m\u001b[1;33m\u001b[0m\u001b[0m\n",
      "\u001b[1;32mc:\\Users\\louis\\OneDrive - Aarhus universitet\\Masters\\1. Semester\\Advanced Cognitive Neuroscience\\Practical Exercises\\week2\\lib\\site-packages\\sklearn\\metrics\\_regression.py\u001b[0m in \u001b[0;36mmean_squared_error\u001b[1;34m(y_true, y_pred, sample_weight, multioutput, squared)\u001b[0m\n\u001b[0;32m    334\u001b[0m     \"\"\"\n\u001b[0;32m    335\u001b[0m     y_type, y_true, y_pred, multioutput = _check_reg_targets(\n\u001b[1;32m--> 336\u001b[1;33m         y_true, y_pred, multioutput)\n\u001b[0m\u001b[0;32m    337\u001b[0m     \u001b[0mcheck_consistent_length\u001b[0m\u001b[1;33m(\u001b[0m\u001b[0my_true\u001b[0m\u001b[1;33m,\u001b[0m \u001b[0my_pred\u001b[0m\u001b[1;33m,\u001b[0m \u001b[0msample_weight\u001b[0m\u001b[1;33m)\u001b[0m\u001b[1;33m\u001b[0m\u001b[0m\n\u001b[0;32m    338\u001b[0m     output_errors = np.average((y_true - y_pred) ** 2, axis=0,\n",
      "\u001b[1;32mc:\\Users\\louis\\OneDrive - Aarhus universitet\\Masters\\1. Semester\\Advanced Cognitive Neuroscience\\Practical Exercises\\week2\\lib\\site-packages\\sklearn\\metrics\\_regression.py\u001b[0m in \u001b[0;36m_check_reg_targets\u001b[1;34m(y_true, y_pred, multioutput, dtype)\u001b[0m\n\u001b[0;32m     86\u001b[0m         \u001b[0mthe\u001b[0m \u001b[0mdtype\u001b[0m \u001b[0margument\u001b[0m \u001b[0mpassed\u001b[0m \u001b[0mto\u001b[0m \u001b[0mcheck_array\u001b[0m\u001b[1;33m.\u001b[0m\u001b[1;33m\u001b[0m\u001b[0m\n\u001b[0;32m     87\u001b[0m     \"\"\"\n\u001b[1;32m---> 88\u001b[1;33m     \u001b[0mcheck_consistent_length\u001b[0m\u001b[1;33m(\u001b[0m\u001b[0my_true\u001b[0m\u001b[1;33m,\u001b[0m \u001b[0my_pred\u001b[0m\u001b[1;33m)\u001b[0m\u001b[1;33m\u001b[0m\u001b[0m\n\u001b[0m\u001b[0;32m     89\u001b[0m     \u001b[0my_true\u001b[0m \u001b[1;33m=\u001b[0m \u001b[0mcheck_array\u001b[0m\u001b[1;33m(\u001b[0m\u001b[0my_true\u001b[0m\u001b[1;33m,\u001b[0m \u001b[0mensure_2d\u001b[0m\u001b[1;33m=\u001b[0m\u001b[1;32mFalse\u001b[0m\u001b[1;33m,\u001b[0m \u001b[0mdtype\u001b[0m\u001b[1;33m=\u001b[0m\u001b[0mdtype\u001b[0m\u001b[1;33m)\u001b[0m\u001b[1;33m\u001b[0m\u001b[0m\n\u001b[0;32m     90\u001b[0m     \u001b[0my_pred\u001b[0m \u001b[1;33m=\u001b[0m \u001b[0mcheck_array\u001b[0m\u001b[1;33m(\u001b[0m\u001b[0my_pred\u001b[0m\u001b[1;33m,\u001b[0m \u001b[0mensure_2d\u001b[0m\u001b[1;33m=\u001b[0m\u001b[1;32mFalse\u001b[0m\u001b[1;33m,\u001b[0m \u001b[0mdtype\u001b[0m\u001b[1;33m=\u001b[0m\u001b[0mdtype\u001b[0m\u001b[1;33m)\u001b[0m\u001b[1;33m\u001b[0m\u001b[0m\n",
      "\u001b[1;32mc:\\Users\\louis\\OneDrive - Aarhus universitet\\Masters\\1. Semester\\Advanced Cognitive Neuroscience\\Practical Exercises\\week2\\lib\\site-packages\\sklearn\\utils\\validation.py\u001b[0m in \u001b[0;36mcheck_consistent_length\u001b[1;34m(*arrays)\u001b[0m\n\u001b[0;32m    318\u001b[0m     \u001b[1;32mif\u001b[0m \u001b[0mlen\u001b[0m\u001b[1;33m(\u001b[0m\u001b[0muniques\u001b[0m\u001b[1;33m)\u001b[0m \u001b[1;33m>\u001b[0m \u001b[1;36m1\u001b[0m\u001b[1;33m:\u001b[0m\u001b[1;33m\u001b[0m\u001b[0m\n\u001b[0;32m    319\u001b[0m         raise ValueError(\"Found input variables with inconsistent numbers of\"\n\u001b[1;32m--> 320\u001b[1;33m                          \" samples: %r\" % [int(l) for l in lengths])\n\u001b[0m\u001b[0;32m    321\u001b[0m \u001b[1;33m\u001b[0m\u001b[0m\n\u001b[0;32m    322\u001b[0m \u001b[1;33m\u001b[0m\u001b[0m\n",
      "\u001b[1;31mValueError\u001b[0m: Found input variables with inconsistent numbers of samples: [10, 40]"
     ]
    }
   ],
   "source": [
    "#diff between the weights and the coefficients\n",
    "mse = mean_squared_error(w, pipeline_Ridge.predict(X_test))\n",
    "# SEE MADS' UPLOADED STUFF"
   ]
  },
  {
   "cell_type": "code",
   "execution_count": 62,
   "metadata": {},
   "outputs": [
    {
     "data": {
      "text/plain": [
       "{'alpha': 0.5,\n",
       " 'copy_X': True,\n",
       " 'fit_intercept': True,\n",
       " 'max_iter': None,\n",
       " 'normalize': False,\n",
       " 'random_state': None,\n",
       " 'solver': 'auto',\n",
       " 'tol': 0.001}"
      ]
     },
     "execution_count": 62,
     "metadata": {},
     "output_type": "execute_result"
    }
   ],
   "source": [
    "#RidgeCV also makes a crossvalidation - runs it for different lambda parameters (default = 3) - a way to help you pick the right lambda"
   ]
  }
 ],
 "metadata": {
  "interpreter": {
   "hash": "bf1eb779dca27f3091be52e37c0b5505f64af06fe4189645d9b483d40daf9db9"
  },
  "kernelspec": {
   "display_name": "Python 3.6.6 64-bit ('week2': venv)",
   "name": "python3"
  },
  "language_info": {
   "codemirror_mode": {
    "name": "ipython",
    "version": 3
   },
   "file_extension": ".py",
   "mimetype": "text/x-python",
   "name": "python",
   "nbconvert_exporter": "python",
   "pygments_lexer": "ipython3",
   "version": "3.6.6"
  }
 },
 "nbformat": 4,
 "nbformat_minor": 4
}
